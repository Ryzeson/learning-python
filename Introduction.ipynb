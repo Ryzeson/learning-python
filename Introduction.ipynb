{
 "cells": [
  {
   "cell_type": "markdown",
   "metadata": {},
   "source": [
    "# Introduction"
   ]
  },
  {
   "cell_type": "code",
   "execution_count": 24,
   "metadata": {
    "scrolled": true
   },
   "outputs": [
    {
     "name": "stdout",
     "output_type": "stream",
     "text": [
      "Hello World!\n"
     ]
    }
   ],
   "source": [
    "print('Hello World!')"
   ]
  },
  {
   "cell_type": "code",
   "execution_count": 26,
   "metadata": {},
   "outputs": [
    {
     "name": "stdout",
     "output_type": "stream",
     "text": [
      "Hello World?\n",
      "(Hello World)!\n",
      "Hello + World\n"
     ]
    }
   ],
   "source": [
    "print('Hello World?')\n",
    "print('(Hello World)!')\n",
    "print('Hello + World')\n",
    "#is this cocalc"
   ]
  },
  {
   "cell_type": "markdown",
   "metadata": {},
   "source": [
    "# This is a markdown header\n",
    "\n",
    "======\n",
    "\n",
    "You can make a cell a markdown cell by pressing *m*\n",
    "\n",
    "[Here is a link to some important info](https://www.youtube.com/watch?v=oavMtUWDBTM)\n",
    "\n",
    "------\n",
    "\n",
    "```Java\n",
    "System.out.println(\"Let's code!\");\n",
    "```\n"
   ]
  }
 ],
 "metadata": {
  "kernelspec": {
   "display_name": "Python 3",
   "language": "python",
   "name": "python3"
  },
  "language_info": {
   "codemirror_mode": {
    "name": "ipython",
    "version": 3
   },
   "file_extension": ".py",
   "mimetype": "text/x-python",
   "name": "python",
   "nbconvert_exporter": "python",
   "pygments_lexer": "ipython3",
   "version": "3.8.2"
  }
 },
 "nbformat": 4,
 "nbformat_minor": 4
}
