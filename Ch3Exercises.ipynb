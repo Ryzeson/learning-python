{
 "cells": [
  {
   "cell_type": "markdown",
   "metadata": {},
   "source": [
    "### 1"
   ]
  },
  {
   "cell_type": "code",
   "execution_count": 1,
   "metadata": {},
   "outputs": [
    {
     "name": "stdout",
     "output_type": "stream",
     "text": [
      "Ryzeson\n",
      "2022\n",
      "Shippensburg\n",
      "Python\n"
     ]
    }
   ],
   "source": [
    "print(\"\"\"Ryzeson\n",
    "2022\n",
    "Shippensburg\n",
    "Python\"\"\")"
   ]
  },
  {
   "cell_type": "markdown",
   "metadata": {},
   "source": [
    "### 2"
   ]
  },
  {
   "cell_type": "code",
   "execution_count": 4,
   "metadata": {},
   "outputs": [
    {
     "name": "stdout",
     "output_type": "stream",
     "text": [
      "This is how you print a double quote (\"), a backslash (\\), and a lowercase o with a stroke (ø)\n",
      "A tab and a newline are printed using a \"\\t\" and \"\\n\" respectively\n"
     ]
    }
   ],
   "source": [
    "print(\"\"\"This is how you print a double quote (\\\"), a backslash (\\\\), and a lowercase o with a stroke (ø)\n",
    "A tab and a newline are printed using a \\\"\\\\t\\\" and \\\"\\\\n\\\" respectively\"\"\")"
   ]
  },
  {
   "cell_type": "markdown",
   "metadata": {},
   "source": [
    "### 3"
   ]
  },
  {
   "cell_type": "code",
   "execution_count": 19,
   "metadata": {},
   "outputs": [
    {
     "name": "stdout",
     "output_type": "stream",
     "text": [
      "super-duper-duper-duper-duper-duper-duper-duper-duper-duper-duper-fun\n",
      "r\n",
      "r\n",
      "r\n"
     ]
    }
   ],
   "source": [
    "str = \"super-\" + \"duper-\" * 10 + \"fun\"\n",
    "print(str)\n",
    "print(str[34])\n",
    "print(str[-35])\n",
    "print(str[len(str) - 35])"
   ]
  },
  {
   "cell_type": "markdown",
   "metadata": {},
   "source": [
    "### 4"
   ]
  },
  {
   "cell_type": "code",
   "execution_count": 24,
   "metadata": {},
   "outputs": [
    {
     "name": "stdout",
     "output_type": "stream",
     "text": [
      "7\n",
      "9\n",
      "1\n",
      "3\n"
     ]
    }
   ],
   "source": [
    "print(len(\"abcdefg\"))\n",
    "print(len(\"\\nabcdefg\\n\"))\n",
    "print(len(\"\\n\"))\n",
    "print(len(\"\"\"a\n",
    "b\"\"\"))"
   ]
  },
  {
   "cell_type": "markdown",
   "metadata": {},
   "source": [
    "### 5"
   ]
  },
  {
   "cell_type": "code",
   "execution_count": 48,
   "metadata": {},
   "outputs": [
    {
     "name": "stdout",
     "output_type": "stream",
     "text": [
      "bdfhjln\n",
      "hfd\n",
      "yvspmj\n",
      "rx\n"
     ]
    }
   ],
   "source": [
    "alphabet = \"abcdefghijklmnopqrstuvwxyz\"\n",
    "print(alphabet[1:14:2])\n",
    "print(alphabet[7:2:-2])\n",
    "print(alphabet[24:8:-3])\n",
    "print(alphabet[17] + alphabet[23])"
   ]
  },
  {
   "cell_type": "code",
   "execution_count": 71,
   "metadata": {
    "scrolled": true
   },
   "outputs": [
    {
     "name": "stdout",
     "output_type": "stream",
     "text": [
      "Ryzeson is not 100\n",
      "                ryzeson is NOT 100                \n",
      "False\n",
      "True\n",
      "11\n",
      "-1\n",
      "11\n",
      "False\n",
      "RYZESON IS NOT 100\n"
     ]
    }
   ],
   "source": [
    "str = \"ryzeson is NOT 100\"\n",
    "print(str.capitalize())\n",
    "print(str.center(50))\n",
    "print(str.endswith(\"g\"))\n",
    "print(str.endswith(\"0\"))\n",
    "print(str.find(\"NOT\"))\n",
    "print(str.find(\"IS\"))\n",
    "print(str.index(\"NOT\"))\n",
    "#print(str.index(\"IS\")) -this will throw an exception because the substring is not found\n",
    "print(str.isalnum())\n",
    "print(str.upper())"
   ]
  },
  {
   "cell_type": "markdown",
   "metadata": {},
   "source": [
    "### 6"
   ]
  },
  {
   "cell_type": "code",
   "execution_count": 75,
   "metadata": {},
   "outputs": [
    {
     "name": "stdout",
     "output_type": "stream",
     "text": [
      "leeez01\n"
     ]
    }
   ],
   "source": [
    "first = \"Ryzeson\"\n",
    "last = \"Maravich\"\n",
    "#first = \"Ezra\"\n",
    "#last = \"Lee\"     #the substring will consist of the entire string\n",
    "print(last.lower()[:4] + first.lower()[:2] + \"01\")"
   ]
  }
 ],
 "metadata": {
  "kernelspec": {
   "display_name": "Python 3",
   "language": "python",
   "name": "python3"
  },
  "language_info": {
   "codemirror_mode": {
    "name": "ipython",
    "version": 3
   },
   "file_extension": ".py",
   "mimetype": "text/x-python",
   "name": "python",
   "nbconvert_exporter": "python",
   "pygments_lexer": "ipython3",
   "version": "3.8.2"
  }
 },
 "nbformat": 4,
 "nbformat_minor": 4
}
